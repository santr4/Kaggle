{
  "nbformat": 4,
  "nbformat_minor": 0,
  "metadata": {
    "colab": {
      "provenance": [],
      "gpuType": "T4",
      "authorship_tag": "ABX9TyMccLzVBn9ctpg1xbDNgOfT",
      "include_colab_link": true
    },
    "kernelspec": {
      "name": "python3",
      "display_name": "Python 3"
    },
    "language_info": {
      "name": "python"
    },
    "accelerator": "GPU"
  },
  "cells": [
    {
      "cell_type": "markdown",
      "metadata": {
        "id": "view-in-github",
        "colab_type": "text"
      },
      "source": [
        "<a href=\"https://colab.research.google.com/github/santr4/Kaggle/blob/main/Imdb_reviews/sentiment_analysis.ipynb\" target=\"_parent\"><img src=\"https://colab.research.google.com/assets/colab-badge.svg\" alt=\"Open In Colab\"/></a>"
      ]
    },
    {
      "cell_type": "markdown",
      "source": [
        "Sentiment analysis on the reviews given by the viewers in the imdb."
      ],
      "metadata": {
        "id": "6ItDXDXjCM_Z"
      }
    },
    {
      "cell_type": "markdown",
      "source": [
        "Our dataset contains two columns - 1) reviews and 2) sentiments."
      ],
      "metadata": {
        "id": "F-6oh0mGCg51"
      }
    },
    {
      "cell_type": "markdown",
      "source": [
        "So we have to figure out a model which best describes the sentiments of the viewers."
      ],
      "metadata": {
        "id": "Z9qPAO8dCqfH"
      }
    },
    {
      "cell_type": "markdown",
      "source": [
        "importing necessary libraries"
      ],
      "metadata": {
        "id": "Uhah1dPCEaow"
      }
    },
    {
      "cell_type": "code",
      "source": [
        "import numpy as np\n",
        "import pandas as pd\n",
        "import matplotlib.pyplot as plt\n",
        "import seaborn as sns\n",
        "sns.set_style(\"darkgrid\",{\"grid.linestyle\":\":\"})"
      ],
      "metadata": {
        "id": "Av9JlZYCCWE-"
      },
      "execution_count": 210,
      "outputs": []
    },
    {
      "cell_type": "code",
      "source": [
        "\n",
        "df_review = pd.read_csv(\"/content/IMDB Dataset.csv\")\n",
        "df_review\n",
        "print(df_review.shape)"
      ],
      "metadata": {
        "colab": {
          "base_uri": "https://localhost:8080/"
        },
        "id": "nyNXAXPUeYfS",
        "outputId": "912aef7a-f801-49e4-a465-12393ec3fd74"
      },
      "execution_count": 211,
      "outputs": [
        {
          "output_type": "stream",
          "name": "stdout",
          "text": [
            "(50000, 2)\n"
          ]
        }
      ]
    },
    {
      "cell_type": "markdown",
      "source": [
        "This model contains 50000 datasets which is very large and to train this big model takes a lot of time so we will take 10000 samples where 9000 positive and 10000 negative."
      ],
      "metadata": {
        "id": "zxBfR1B9hrOr"
      }
    },
    {
      "cell_type": "code",
      "source": [
        "df_positive = df_review[df_review['sentiment']== 'positive'][:9000]\n",
        "df_negative = df_review[df_review['sentiment'] == 'negative'][:1000]"
      ],
      "metadata": {
        "id": "OUqLWzv_h8li"
      },
      "execution_count": 212,
      "outputs": []
    },
    {
      "cell_type": "code",
      "source": [
        "df_review_imdb = pd.concat([df_positive,df_negative])"
      ],
      "metadata": {
        "id": "1fr1CR69jg_5"
      },
      "execution_count": 213,
      "outputs": []
    },
    {
      "cell_type": "code",
      "source": [
        "print(df_review_imdb.shape)"
      ],
      "metadata": {
        "colab": {
          "base_uri": "https://localhost:8080/"
        },
        "id": "oXJUDak3jr_f",
        "outputId": "f6087a8a-51ae-434f-c01f-7ea864c92b49"
      },
      "execution_count": 214,
      "outputs": [
        {
          "output_type": "stream",
          "name": "stdout",
          "text": [
            "(10000, 2)\n"
          ]
        }
      ]
    },
    {
      "cell_type": "markdown",
      "source": [
        "When one class has a lot a lot of observations and the other class has lower observations. This is known as imbalanced classes."
      ],
      "metadata": {
        "id": "O0kgi0Iik0fV"
      }
    },
    {
      "cell_type": "code",
      "source": [
        "colors = sns.color_palette('deep')\n",
        "plt.figure(figsize=(8,4), tight_layout=True)\n",
        "plt.bar(x=['positive','negative'],height=df_review_imdb.value_counts(['sentiment']),color=colors[:2])\n",
        "plt.title('imbalanced sentiments')\n",
        "plt.show()\n",
        "plt.savefig('imbalanced sentiments.png')\n",
        "plt.savefig('imbalanced sentiments.jpg')"
      ],
      "metadata": {
        "colab": {
          "base_uri": "https://localhost:8080/",
          "height": 425
        },
        "id": "7K4aQ61sj0uv",
        "outputId": "01243444-49db-452e-f94d-5f1aaff5d453"
      },
      "execution_count": 215,
      "outputs": [
        {
          "output_type": "display_data",
          "data": {
            "text/plain": [
              "<Figure size 800x400 with 1 Axes>"
            ],
            "image/png": "[encoded data removed]"
          },
          "metadata": {}
        },
        {
          "output_type": "display_data",
          "data": {
            "text/plain": [
              "<Figure size 640x480 with 0 Axes>"
            ]
          },
          "metadata": {}
        }
      ]
    },
    {
      "cell_type": "markdown",
      "source": [
        "I am using RandomUnderSampler from imblearn library to reduce the samples of the positive sentiments so that we can remove this imbalance."
      ],
      "metadata": {
        "id": "2j-0wyX82fWo"
      }
    },
    {
      "cell_type": "code",
      "source": [
        "from imblearn.under_sampling import RandomUnderSampler\n",
        "rus = RandomUnderSampler(random_state=0)\n",
        "df_review_bal,df_review_bal['sentiment']=rus.fit_resample(df_review_imdb[['review']],df_review_imdb['sentiment'])\n",
        "\n",
        "df_review_bal\n",
        "print(df_review_bal.shape)"
      ],
      "metadata": {
        "colab": {
          "base_uri": "https://localhost:8080/"
        },
        "id": "LcwlJ3m3yWo8",
        "outputId": "b2285a55-aa32-49b1-c235-d4c3395b6e30"
      },
      "execution_count": 216,
      "outputs": [
        {
          "output_type": "stream",
          "name": "stdout",
          "text": [
            "(2000, 2)\n"
          ]
        }
      ]
    },
    {
      "cell_type": "markdown",
      "source": [
        "We can compare the imbalance and balanced dataset."
      ],
      "metadata": {
        "id": "0fphL-GV21qu"
      }
    },
    {
      "cell_type": "code",
      "source": [
        "x = df_review_imdb.value_counts('sentiment')  # imbalanced\n",
        "y = df_review_bal.value_counts('sentiment')   # balanced\n",
        "print(x)\n",
        "print(y)"
      ],
      "metadata": {
        "colab": {
          "base_uri": "https://localhost:8080/"
        },
        "id": "PK459hcb3n9l",
        "outputId": "bf75eb45-7023-4526-b7bb-259e29a75ac4"
      },
      "execution_count": 217,
      "outputs": [
        {
          "output_type": "stream",
          "name": "stdout",
          "text": [
            "sentiment\n",
            "positive    9000\n",
            "negative    1000\n",
            "dtype: int64\n",
            "sentiment\n",
            "negative    1000\n",
            "positive    1000\n",
            "dtype: int64\n"
          ]
        }
      ]
    },
    {
      "cell_type": "markdown",
      "source": [
        "Now we will split the dataset into input and output dataset"
      ],
      "metadata": {
        "id": "dskUKwXM4Fwv"
      }
    },
    {
      "cell_type": "code",
      "source": [
        "from sklearn.model_selection import train_test_split\n",
        "train,test= train_test_split(df_review_bal,test_size = 0.3,random_state=42)"
      ],
      "metadata": {
        "id": "-0I1dC7Y4Ji8"
      },
      "execution_count": 218,
      "outputs": []
    },
    {
      "cell_type": "code",
      "source": [
        "train_x,train_y = train['review'],train['sentiment']\n",
        "test_x,test_y = test['review'],test['sentiment']"
      ],
      "metadata": {
        "id": "fYp9go3s40VS"
      },
      "execution_count": 219,
      "outputs": []
    },
    {
      "cell_type": "code",
      "source": [
        "train_y.value_counts()"
      ],
      "metadata": {
        "colab": {
          "base_uri": "https://localhost:8080/"
        },
        "id": "qVzTYLcf5KDm",
        "outputId": "a6d629d9-2ca0-43e2-8daa-1b2e94caf421"
      },
      "execution_count": 220,
      "outputs": [
        {
          "output_type": "execute_result",
          "data": {
            "text/plain": [
              "positive    702\n",
              "negative    698\n",
              "Name: sentiment, dtype: int64"
            ]
          },
          "metadata": {},
          "execution_count": 220
        }
      ]
    },
    {
      "cell_type": "code",
      "source": [
        "test_y.value_counts()"
      ],
      "metadata": {
        "colab": {
          "base_uri": "https://localhost:8080/"
        },
        "id": "ZPlIm60T5X9H",
        "outputId": "9b6e4f1f-a049-47b2-cd49-b05a7695eebb"
      },
      "execution_count": 221,
      "outputs": [
        {
          "output_type": "execute_result",
          "data": {
            "text/plain": [
              "negative    302\n",
              "positive    298\n",
              "Name: sentiment, dtype: int64"
            ]
          },
          "metadata": {},
          "execution_count": 221
        }
      ]
    },
    {
      "cell_type": "markdown",
      "source": [
        "Now we need to convert the text reviews into numerical values as the model understands that only. We will use ConverVectorizer and tf_and_idf."
      ],
      "metadata": {
        "id": "hufzFWBZ6SdV"
      }
    },
    {
      "cell_type": "markdown",
      "source": [
        "The TfidfVectorizer class from sklearn.feature_extraction module is used for transforming the text data to tfidf matrix. tfidf is the object of the class and it stops the common english words like - 'in','the',etc. Then the train_x and test_x is fit with the tfidf matrix into train_x_vector and test_x_vector."
      ],
      "metadata": {
        "id": "XeVF3d5B_MtC"
      }
    },
    {
      "cell_type": "code",
      "source": [
        "from sklearn.feature_extraction.text import TfidfVectorizer\n",
        "tfidf = TfidfVectorizer(stop_words='english')\n",
        "train_x_vector = tfidf.fit_transform(train_x)\n",
        "test_x_vector = tfidf.fit_transform(test_x)\n",
        "print(train_x_vector.shape)"
      ],
      "metadata": {
        "colab": {
          "base_uri": "https://localhost:8080/"
        },
        "id": "4X67r6k072XF",
        "outputId": "0e7f54cd-d2f6-418b-91e4-d3d98af217b6"
      },
      "execution_count": 222,
      "outputs": [
        {
          "output_type": "stream",
          "name": "stdout",
          "text": [
            "(1400, 21091)\n"
          ]
        }
      ]
    },
    {
      "cell_type": "markdown",
      "source": [
        "Also we will transform the test_x_vector."
      ],
      "metadata": {
        "id": "ehG5NfOI_xdA"
      }
    },
    {
      "cell_type": "markdown",
      "source": [
        "error : ValueError                                Traceback (most recent call last)\n",
        "<ipython-input-77-96b430185009> in <cell line: 1>()\n",
        "----> 1 pd.DataFrame.sparse.from_spmatrix(train_x_vector,\n",
        "      2                                   index=train_x.index,\n",
        "      3                                   columns=tfidf.get_feature_names_out())\n",
        "\n",
        "1 frames\n",
        "/usr/local/lib/python3.10/dist-packages/pandas/core/arrays/sparse/accessor.py in _prep_index(data, index, columns)\n",
        "    391\n",
        "    392         if len(columns) != K:\n",
        "--> 393             raise ValueError(f\"Column length mismatch: {len(columns)} vs. {K}\")\n",
        "    394         if len(index) != N:\n",
        "    395             raise ValueError(f\"Index length mismatch: {len(index)} vs. {N}\")\n",
        "\n",
        "ValueError: Column length mismatch: 13136 vs. 21091"
      ],
      "metadata": {
        "id": "7AgVm9fAK3Ql"
      }
    },
    {
      "cell_type": "markdown",
      "source": [
        "to solve the above issue -\n",
        "To resolve this issue, you should review the code and verify the following:\n",
        "\n",
        "1)Check if the tfidf object used to obtain the feature names is trained on the same data or has the same vocabulary as the train_x_vector sparse matrix.\n",
        "\n",
        "2)Confirm that the train_x_vector sparse matrix is correctly generated using the appropriate data.\n",
        "\n",
        "3)Make sure that the tfidf.get_feature_names_out() method returns the correct number of feature names.\n",
        "\n",
        "By addressing these points, you should be able to resolve the column length mismatch error and successfully create the sparse DataFrame using pd.DataFrame.sparse.from_spmatrix()."
      ],
      "metadata": {
        "id": "-69qZvr8K_S5"
      }
    },
    {
      "cell_type": "code",
      "source": [
        "pd.DataFrame.sparse.from_spmatrix(train_x_vector,\n",
        "                                  index=train_x.index,\n",
        "                                  columns=tfidf.get_feature_names_out())"
      ],
      "metadata": {
        "colab": {
          "base_uri": "https://localhost:8080/",
          "height": 360
        },
        "id": "004jzgMj_5Db",
        "outputId": "1e1a4128-0074-4888-8a7d-7c78b88444c3"
      },
      "execution_count": 223,
      "outputs": [
        {
          "output_type": "error",
          "ename": "ValueError",
          "evalue": "ignored",
          "traceback": [
            "\u001b[0;31m---------------------------------------------------------------------------\u001b[0m",
            "\u001b[0;31mValueError\u001b[0m                                Traceback (most recent call last)",
            "\u001b[0;32m<ipython-input-223-96b430185009>\u001b[0m in \u001b[0;36m<cell line: 1>\u001b[0;34m()\u001b[0m\n\u001b[0;32m----> 1\u001b[0;31m pd.DataFrame.sparse.from_spmatrix(train_x_vector,\n\u001b[0m\u001b[1;32m      2\u001b[0m                                   \u001b[0mindex\u001b[0m\u001b[0;34m=\u001b[0m\u001b[0mtrain_x\u001b[0m\u001b[0;34m.\u001b[0m\u001b[0mindex\u001b[0m\u001b[0;34m,\u001b[0m\u001b[0;34m\u001b[0m\u001b[0;34m\u001b[0m\u001b[0m\n\u001b[1;32m      3\u001b[0m                                   columns=tfidf.get_feature_names_out())\n",
            "\u001b[0;32m/usr/local/lib/python3.10/dist-packages/pandas/core/arrays/sparse/accessor.py\u001b[0m in \u001b[0;36mfrom_spmatrix\u001b[0;34m(cls, data, index, columns)\u001b[0m\n\u001b[1;32m    273\u001b[0m \u001b[0;34m\u001b[0m\u001b[0m\n\u001b[1;32m    274\u001b[0m         \u001b[0mdata\u001b[0m \u001b[0;34m=\u001b[0m \u001b[0mdata\u001b[0m\u001b[0;34m.\u001b[0m\u001b[0mtocsc\u001b[0m\u001b[0;34m(\u001b[0m\u001b[0;34m)\u001b[0m\u001b[0;34m\u001b[0m\u001b[0;34m\u001b[0m\u001b[0m\n\u001b[0;32m--> 275\u001b[0;31m         \u001b[0mindex\u001b[0m\u001b[0;34m,\u001b[0m \u001b[0mcolumns\u001b[0m \u001b[0;34m=\u001b[0m \u001b[0mcls\u001b[0m\u001b[0;34m.\u001b[0m\u001b[0m_prep_index\u001b[0m\u001b[0;34m(\u001b[0m\u001b[0mdata\u001b[0m\u001b[0;34m,\u001b[0m \u001b[0mindex\u001b[0m\u001b[0;34m,\u001b[0m \u001b[0mcolumns\u001b[0m\u001b[0;34m)\u001b[0m\u001b[0;34m\u001b[0m\u001b[0;34m\u001b[0m\u001b[0m\n\u001b[0m\u001b[1;32m    276\u001b[0m         \u001b[0mn_rows\u001b[0m\u001b[0;34m,\u001b[0m \u001b[0mn_columns\u001b[0m \u001b[0;34m=\u001b[0m \u001b[0mdata\u001b[0m\u001b[0;34m.\u001b[0m\u001b[0mshape\u001b[0m\u001b[0;34m\u001b[0m\u001b[0;34m\u001b[0m\u001b[0m\n\u001b[1;32m    277\u001b[0m         \u001b[0;31m# We need to make sure indices are sorted, as we create\u001b[0m\u001b[0;34m\u001b[0m\u001b[0;34m\u001b[0m\u001b[0m\n",
            "\u001b[0;32m/usr/local/lib/python3.10/dist-packages/pandas/core/arrays/sparse/accessor.py\u001b[0m in \u001b[0;36m_prep_index\u001b[0;34m(data, index, columns)\u001b[0m\n\u001b[1;32m    391\u001b[0m \u001b[0;34m\u001b[0m\u001b[0m\n\u001b[1;32m    392\u001b[0m         \u001b[0;32mif\u001b[0m \u001b[0mlen\u001b[0m\u001b[0;34m(\u001b[0m\u001b[0mcolumns\u001b[0m\u001b[0;34m)\u001b[0m \u001b[0;34m!=\u001b[0m \u001b[0mK\u001b[0m\u001b[0;34m:\u001b[0m\u001b[0;34m\u001b[0m\u001b[0;34m\u001b[0m\u001b[0m\n\u001b[0;32m--> 393\u001b[0;31m             \u001b[0;32mraise\u001b[0m \u001b[0mValueError\u001b[0m\u001b[0;34m(\u001b[0m\u001b[0;34mf\"Column length mismatch: {len(columns)} vs. {K}\"\u001b[0m\u001b[0;34m)\u001b[0m\u001b[0;34m\u001b[0m\u001b[0;34m\u001b[0m\u001b[0m\n\u001b[0m\u001b[1;32m    394\u001b[0m         \u001b[0;32mif\u001b[0m \u001b[0mlen\u001b[0m\u001b[0;34m(\u001b[0m\u001b[0mindex\u001b[0m\u001b[0;34m)\u001b[0m \u001b[0;34m!=\u001b[0m \u001b[0mN\u001b[0m\u001b[0;34m:\u001b[0m\u001b[0;34m\u001b[0m\u001b[0;34m\u001b[0m\u001b[0m\n\u001b[1;32m    395\u001b[0m             \u001b[0;32mraise\u001b[0m \u001b[0mValueError\u001b[0m\u001b[0;34m(\u001b[0m\u001b[0;34mf\"Index length mismatch: {len(index)} vs. {N}\"\u001b[0m\u001b[0;34m)\u001b[0m\u001b[0;34m\u001b[0m\u001b[0;34m\u001b[0m\u001b[0m\n",
            "\u001b[0;31mValueError\u001b[0m: Column length mismatch: 13136 vs. 21091"
          ]
        }
      ]
    },
    {
      "cell_type": "markdown",
      "source": [
        "Model selection - here we can use different models to find the prediction."
      ],
      "metadata": {
        "id": "N-LR5vDmCwaD"
      }
    },
    {
      "cell_type": "markdown",
      "source": [
        "SVM - support vector machine or support vector regression"
      ],
      "metadata": {
        "id": "vUZp1dFeDiNY"
      }
    }
  ]
}